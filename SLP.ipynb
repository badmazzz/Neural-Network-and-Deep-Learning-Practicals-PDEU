{
  "nbformat": 4,
  "nbformat_minor": 0,
  "metadata": {
    "colab": {
      "provenance": [],
      "mount_file_id": "1BcFRNqS8r0Ne5eikqkLVFqIOqG9f_HIO",
      "authorship_tag": "ABX9TyOAg/h6mkxC29omlJhWx0qq",
      "include_colab_link": true
    },
    "kernelspec": {
      "name": "python3",
      "display_name": "Python 3"
    },
    "language_info": {
      "name": "python"
    }
  },
  "cells": [
    {
      "cell_type": "markdown",
      "metadata": {
        "id": "view-in-github",
        "colab_type": "text"
      },
      "source": [
        "<a href=\"https://colab.research.google.com/github/badmazzz/Neural-Network-and-Deep-Learning-Practicals-PDEU/blob/main/SLP.ipynb\" target=\"_parent\"><img src=\"https://colab.research.google.com/assets/colab-badge.svg\" alt=\"Open In Colab\"/></a>"
      ]
    },
    {
      "cell_type": "code",
      "execution_count": 8,
      "metadata": {
        "colab": {
          "base_uri": "https://localhost:8080/",
          "height": 455
        },
        "id": "h2mAgRxlniwn",
        "outputId": "e95b6037-c3e9-4c0f-e5db-fb1900f21364"
      },
      "outputs": [
        {
          "output_type": "stream",
          "name": "stdout",
          "text": [
            "\n",
            "Final Weights: [0.2 0.1]\n",
            "Final Bias: -0.2\n",
            "\n",
            "History of weights: [[array([0., 0.]), np.float64(0.0)], [array([0., 0.]), np.float64(0.0)], [array([0., 0.]), np.float64(0.0)], [array([0.1, 0.1]), np.float64(0.1)], [array([0.1, 0.1]), np.float64(0.0)], [array([0.1, 0. ]), np.float64(-0.1)], [array([0.1, 0. ]), np.float64(-0.1)], [array([0.2, 0.1]), np.float64(0.0)], [array([0.2, 0.1]), np.float64(0.0)], [array([0.2, 0. ]), np.float64(-0.1)], [array([0.1, 0. ]), np.float64(-0.2)], [array([0.2, 0.1]), np.float64(-0.1)], [array([0.2, 0.1]), np.float64(-0.1)], [array([0.2, 0.1]), np.float64(-0.1)], [array([0.1, 0.1]), np.float64(-0.2)], [array([0.2, 0.2]), np.float64(-0.1)], [array([0.2, 0.2]), np.float64(-0.1)], [array([0.2, 0.1]), np.float64(-0.2)], [array([0.2, 0.1]), np.float64(-0.2)], [array([0.2, 0.1]), np.float64(-0.2)], [array([0.2, 0.1]), np.float64(-0.2)], [array([0.2, 0.1]), np.float64(-0.2)], [array([0.2, 0.1]), np.float64(-0.2)], [array([0.2, 0.1]), np.float64(-0.2)], [array([0.2, 0.1]), np.float64(-0.2)], [array([0.2, 0.1]), np.float64(-0.2)], [array([0.2, 0.1]), np.float64(-0.2)], [array([0.2, 0.1]), np.float64(-0.2)], [array([0.2, 0.1]), np.float64(-0.2)], [array([0.2, 0.1]), np.float64(-0.2)], [array([0.2, 0.1]), np.float64(-0.2)], [array([0.2, 0.1]), np.float64(-0.2)], [array([0.2, 0.1]), np.float64(-0.2)], [array([0.2, 0.1]), np.float64(-0.2)], [array([0.2, 0.1]), np.float64(-0.2)], [array([0.2, 0.1]), np.float64(-0.2)], [array([0.2, 0.1]), np.float64(-0.2)], [array([0.2, 0.1]), np.float64(-0.2)], [array([0.2, 0.1]), np.float64(-0.2)], [array([0.2, 0.1]), np.float64(-0.2)]]\n"
          ]
        },
        {
          "output_type": "error",
          "ename": "KeyboardInterrupt",
          "evalue": "Interrupted by user",
          "traceback": [
            "\u001b[0;31m---------------------------------------------------------------------------\u001b[0m",
            "\u001b[0;31mKeyboardInterrupt\u001b[0m                         Traceback (most recent call last)",
            "\u001b[0;32m/tmp/ipython-input-8-1520734086.py\u001b[0m in \u001b[0;36m<cell line: 0>\u001b[0;34m()\u001b[0m\n\u001b[1;32m     29\u001b[0m \u001b[0;34m\u001b[0m\u001b[0m\n\u001b[1;32m     30\u001b[0m \u001b[0;32mwhile\u001b[0m \u001b[0;32mTrue\u001b[0m\u001b[0;34m:\u001b[0m\u001b[0;34m\u001b[0m\u001b[0;34m\u001b[0m\u001b[0m\n\u001b[0;32m---> 31\u001b[0;31m     \u001b[0mstop\u001b[0m \u001b[0;34m=\u001b[0m \u001b[0minput\u001b[0m\u001b[0;34m(\u001b[0m\u001b[0;34m\"Type 'exit' to quit or press Enter to continue: \"\u001b[0m\u001b[0;34m)\u001b[0m\u001b[0;34m\u001b[0m\u001b[0;34m\u001b[0m\u001b[0m\n\u001b[0m\u001b[1;32m     32\u001b[0m     \u001b[0;32mif\u001b[0m \u001b[0mstop\u001b[0m\u001b[0;34m.\u001b[0m\u001b[0mlower\u001b[0m\u001b[0;34m(\u001b[0m\u001b[0;34m)\u001b[0m \u001b[0;34m==\u001b[0m \u001b[0;34m\"exit\"\u001b[0m\u001b[0;34m:\u001b[0m\u001b[0;34m\u001b[0m\u001b[0;34m\u001b[0m\u001b[0m\n\u001b[1;32m     33\u001b[0m         \u001b[0;32mbreak\u001b[0m\u001b[0;34m\u001b[0m\u001b[0;34m\u001b[0m\u001b[0m\n",
            "\u001b[0;32m/usr/local/lib/python3.11/dist-packages/ipykernel/kernelbase.py\u001b[0m in \u001b[0;36mraw_input\u001b[0;34m(self, prompt)\u001b[0m\n\u001b[1;32m   1175\u001b[0m                 \u001b[0;34m\"raw_input was called, but this frontend does not support input requests.\"\u001b[0m\u001b[0;34m\u001b[0m\u001b[0;34m\u001b[0m\u001b[0m\n\u001b[1;32m   1176\u001b[0m             )\n\u001b[0;32m-> 1177\u001b[0;31m         return self._input_request(\n\u001b[0m\u001b[1;32m   1178\u001b[0m             \u001b[0mstr\u001b[0m\u001b[0;34m(\u001b[0m\u001b[0mprompt\u001b[0m\u001b[0;34m)\u001b[0m\u001b[0;34m,\u001b[0m\u001b[0;34m\u001b[0m\u001b[0;34m\u001b[0m\u001b[0m\n\u001b[1;32m   1179\u001b[0m             \u001b[0mself\u001b[0m\u001b[0;34m.\u001b[0m\u001b[0m_parent_ident\u001b[0m\u001b[0;34m[\u001b[0m\u001b[0;34m\"shell\"\u001b[0m\u001b[0;34m]\u001b[0m\u001b[0;34m,\u001b[0m\u001b[0;34m\u001b[0m\u001b[0;34m\u001b[0m\u001b[0m\n",
            "\u001b[0;32m/usr/local/lib/python3.11/dist-packages/ipykernel/kernelbase.py\u001b[0m in \u001b[0;36m_input_request\u001b[0;34m(self, prompt, ident, parent, password)\u001b[0m\n\u001b[1;32m   1217\u001b[0m             \u001b[0;32mexcept\u001b[0m \u001b[0mKeyboardInterrupt\u001b[0m\u001b[0;34m:\u001b[0m\u001b[0;34m\u001b[0m\u001b[0;34m\u001b[0m\u001b[0m\n\u001b[1;32m   1218\u001b[0m                 \u001b[0;31m# re-raise KeyboardInterrupt, to truncate traceback\u001b[0m\u001b[0;34m\u001b[0m\u001b[0;34m\u001b[0m\u001b[0m\n\u001b[0;32m-> 1219\u001b[0;31m                 \u001b[0;32mraise\u001b[0m \u001b[0mKeyboardInterrupt\u001b[0m\u001b[0;34m(\u001b[0m\u001b[0;34m\"Interrupted by user\"\u001b[0m\u001b[0;34m)\u001b[0m \u001b[0;32mfrom\u001b[0m \u001b[0;32mNone\u001b[0m\u001b[0;34m\u001b[0m\u001b[0;34m\u001b[0m\u001b[0m\n\u001b[0m\u001b[1;32m   1220\u001b[0m             \u001b[0;32mexcept\u001b[0m \u001b[0mException\u001b[0m\u001b[0;34m:\u001b[0m\u001b[0;34m\u001b[0m\u001b[0;34m\u001b[0m\u001b[0m\n\u001b[1;32m   1221\u001b[0m                 \u001b[0mself\u001b[0m\u001b[0;34m.\u001b[0m\u001b[0mlog\u001b[0m\u001b[0;34m.\u001b[0m\u001b[0mwarning\u001b[0m\u001b[0;34m(\u001b[0m\u001b[0;34m\"Invalid Message:\"\u001b[0m\u001b[0;34m,\u001b[0m \u001b[0mexc_info\u001b[0m\u001b[0;34m=\u001b[0m\u001b[0;32mTrue\u001b[0m\u001b[0;34m)\u001b[0m\u001b[0;34m\u001b[0m\u001b[0;34m\u001b[0m\u001b[0m\n",
            "\u001b[0;31mKeyboardInterrupt\u001b[0m: Interrupted by user"
          ]
        }
      ],
      "source": [
        "import numpy as np\n",
        "\n",
        "X = np.array([[0,0],[0,1],[1,0],[1,1]])\n",
        "Y = np.array([0,0,0,1])\n",
        "\n",
        "w = np.zeros(2)\n",
        "b = 0.0\n",
        "epochs = 10\n",
        "lr = 0.1\n",
        "history = []\n",
        "\n",
        "def result(z):\n",
        "  return 1 if z > 0 else 0\n",
        "\n",
        "for e in range(epochs):\n",
        "  for i in range(len(X)):\n",
        "    x = X[i]\n",
        "    y = Y[i]\n",
        "    z = np.dot(w,x) + b\n",
        "    y_predicted = result(z)\n",
        "    w += lr*(y - y_predicted)*x\n",
        "    b += lr*(y - y_predicted)\n",
        "    history.append([w.copy(), b])\n",
        "\n",
        "print(\"\\nFinal Weights:\", w)\n",
        "print(\"Final Bias:\", b)\n",
        "print(\"\\nHistory of weights:\", history)\n",
        "\n",
        "\n",
        "while True:\n",
        "    stop = input(\"Type 'exit' to quit or press Enter to continue: \")\n",
        "    if stop.lower() == \"exit\":\n",
        "        break\n",
        "\n",
        "    x1 = int(input(\"Enter x1: \"))\n",
        "    x2 = int(input(\"Enter x2: \"))\n",
        "\n",
        "    z = np.dot(w, [x1, x2]) + b\n",
        "    prediction = result(z)\n",
        "    print(f\"Predicted Output: {prediction}\")\n"
      ]
    }
  ]
}